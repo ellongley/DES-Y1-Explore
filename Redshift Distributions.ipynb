{
 "cells": [
  {
   "cell_type": "markdown",
   "metadata": {},
   "source": [
    "# Redshift Distributions"
   ]
  },
  {
   "cell_type": "code",
   "execution_count": 13,
   "metadata": {},
   "outputs": [],
   "source": [
    "from astropy.io import fits\n",
    "import pandas\n",
    "import matplotlib.pyplot as plt"
   ]
  },
  {
   "cell_type": "code",
   "execution_count": 3,
   "metadata": {},
   "outputs": [],
   "source": [
    "data_file = 'y1_redshift_distributions_v1.fits'"
   ]
  },
  {
   "cell_type": "code",
   "execution_count": 4,
   "metadata": {},
   "outputs": [],
   "source": [
    "def read_fits_pandas(datafile):\n",
    "    with fits.open(datafile) as data:\n",
    "        df = pandas.DataFrame(data[0].data)\n",
    "    return df"
   ]
  },
  {
   "cell_type": "code",
   "execution_count": 5,
   "metadata": {},
   "outputs": [],
   "source": [
    "df = read_fits_pandas(data_file)"
   ]
  },
  {
   "cell_type": "code",
   "execution_count": 8,
   "metadata": {},
   "outputs": [
    {
     "name": "stderr",
     "output_type": "stream",
     "text": [
      "WARNING: hdu= was not specified but multiple tables are present, reading in first available table (hdu=1) [astropy.io.fits.connect]\n"
     ]
    }
   ],
   "source": [
    "from astropy.table import Table\n",
    "dat = Table.read(data_file, format='fits')\n",
    "df = dat.to_pandas()"
   ]
  },
  {
   "cell_type": "code",
   "execution_count": 11,
   "metadata": {},
   "outputs": [
    {
     "data": {
      "text/html": [
       "<div>\n",
       "<style scoped>\n",
       "    .dataframe tbody tr th:only-of-type {\n",
       "        vertical-align: middle;\n",
       "    }\n",
       "\n",
       "    .dataframe tbody tr th {\n",
       "        vertical-align: top;\n",
       "    }\n",
       "\n",
       "    .dataframe thead th {\n",
       "        text-align: right;\n",
       "    }\n",
       "</style>\n",
       "<table border=\"1\" class=\"dataframe\">\n",
       "  <thead>\n",
       "    <tr style=\"text-align: right;\">\n",
       "      <th></th>\n",
       "      <th>Z_LOW</th>\n",
       "      <th>Z_MID</th>\n",
       "      <th>Z_HIGH</th>\n",
       "      <th>BIN1</th>\n",
       "      <th>BIN2</th>\n",
       "      <th>BIN3</th>\n",
       "      <th>BIN4</th>\n",
       "    </tr>\n",
       "  </thead>\n",
       "  <tbody>\n",
       "    <tr>\n",
       "      <th>0</th>\n",
       "      <td>0.0001</td>\n",
       "      <td>0.0051</td>\n",
       "      <td>0.0101</td>\n",
       "      <td>0.010654</td>\n",
       "      <td>0.003370</td>\n",
       "      <td>0.003765</td>\n",
       "      <td>0.006841</td>\n",
       "    </tr>\n",
       "    <tr>\n",
       "      <th>1</th>\n",
       "      <td>0.0101</td>\n",
       "      <td>0.0151</td>\n",
       "      <td>0.0201</td>\n",
       "      <td>0.031892</td>\n",
       "      <td>0.011528</td>\n",
       "      <td>0.008802</td>\n",
       "      <td>0.019403</td>\n",
       "    </tr>\n",
       "    <tr>\n",
       "      <th>2</th>\n",
       "      <td>0.0201</td>\n",
       "      <td>0.0251</td>\n",
       "      <td>0.0301</td>\n",
       "      <td>0.053965</td>\n",
       "      <td>0.020341</td>\n",
       "      <td>0.013476</td>\n",
       "      <td>0.029524</td>\n",
       "    </tr>\n",
       "    <tr>\n",
       "      <th>3</th>\n",
       "      <td>0.0301</td>\n",
       "      <td>0.0351</td>\n",
       "      <td>0.0401</td>\n",
       "      <td>0.082612</td>\n",
       "      <td>0.031296</td>\n",
       "      <td>0.018851</td>\n",
       "      <td>0.041985</td>\n",
       "    </tr>\n",
       "    <tr>\n",
       "      <th>4</th>\n",
       "      <td>0.0401</td>\n",
       "      <td>0.0451</td>\n",
       "      <td>0.0501</td>\n",
       "      <td>0.114755</td>\n",
       "      <td>0.041747</td>\n",
       "      <td>0.025174</td>\n",
       "      <td>0.055386</td>\n",
       "    </tr>\n",
       "  </tbody>\n",
       "</table>\n",
       "</div>"
      ],
      "text/plain": [
       "    Z_LOW   Z_MID  Z_HIGH      BIN1      BIN2      BIN3      BIN4\n",
       "0  0.0001  0.0051  0.0101  0.010654  0.003370  0.003765  0.006841\n",
       "1  0.0101  0.0151  0.0201  0.031892  0.011528  0.008802  0.019403\n",
       "2  0.0201  0.0251  0.0301  0.053965  0.020341  0.013476  0.029524\n",
       "3  0.0301  0.0351  0.0401  0.082612  0.031296  0.018851  0.041985\n",
       "4  0.0401  0.0451  0.0501  0.114755  0.041747  0.025174  0.055386"
      ]
     },
     "execution_count": 11,
     "metadata": {},
     "output_type": "execute_result"
    }
   ],
   "source": [
    "df.head()"
   ]
  },
  {
   "cell_type": "code",
   "execution_count": 30,
   "metadata": {},
   "outputs": [
    {
     "data": {
      "text/plain": [
       "Text(0.5, 0, 'z')"
      ]
     },
     "execution_count": 30,
     "metadata": {},
     "output_type": "execute_result"
    },
    {
     "data": {
      "image/png": "[encoded data removed]",
      "text/plain": [
       "<Figure size 432x288 with 1 Axes>"
      ]
     },
     "metadata": {
      "needs_background": "light"
     },
     "output_type": "display_data"
    }
   ],
   "source": [
    "bins = ['1','2','3','4']\n",
    "bin_boundaries = [0.2,0.43,0.63,0.9,1.3]\n",
    "for i in range(4):\n",
    "    plt.plot(df['Z_MID'],df['BIN'+bins[i]])\n",
    "    plt.axvline(bin_boundaries[i],linewidth=1, color='black')\n",
    "plt.axvline(bin_boundaries[i+1],linewidth=1, color='black')\n",
    "plt.xlim(0,1.8)\n",
    "plt.ylim(0,5)\n",
    "plt.title('DES Y1 Source Redshift Distributions')\n",
    "plt.ylabel('n(z)')\n",
    "plt.xlabel('z')"
   ]
  }
 ],
 "metadata": {
  "kernelspec": {
   "display_name": "Python 3",
   "language": "python",
   "name": "python3"
  },
  "language_info": {
   "codemirror_mode": {
    "name": "ipython",
    "version": 3
   },
   "file_extension": ".py",
   "mimetype": "text/x-python",
   "name": "python",
   "nbconvert_exporter": "python",
   "pygments_lexer": "ipython3",
   "version": "3.7.3"
  }
 },
 "nbformat": 4,
 "nbformat_minor": 2
}
